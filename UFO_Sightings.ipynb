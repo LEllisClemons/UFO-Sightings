{
 "cells": [
  {
   "cell_type": "code",
   "execution_count": 1,
   "metadata": {},
   "outputs": [],
   "source": [
    "import csv\n",
    "import pandas as pd\n",
    "import numpy as np\n",
    "import matplotlib.pyplot as plt\n",
    "import re\n",
    "#import shapely as sp\n",
    "#import timezonefinder as tf\n",
    "#from wordcloud import WordCloud, STOPWORDS"
   ]
  },
  {
   "cell_type": "code",
   "execution_count": 2,
   "metadata": {},
   "outputs": [
    {
     "name": "stderr",
     "output_type": "stream",
     "text": [
      "C:\\Users\\Leahtan\\Anaconda2\\lib\\site-packages\\IPython\\core\\interactiveshell.py:2718: DtypeWarning: Columns (5,9) have mixed types. Specify dtype option on import or set low_memory=False.\n",
      "  interactivity=interactivity, compiler=compiler, result=result)\n"
     ]
    },
    {
     "data": {
      "text/html": [
       "<div>\n",
       "<style>\n",
       "    .dataframe thead tr:only-child th {\n",
       "        text-align: right;\n",
       "    }\n",
       "\n",
       "    .dataframe thead th {\n",
       "        text-align: left;\n",
       "    }\n",
       "\n",
       "    .dataframe tbody tr th {\n",
       "        vertical-align: top;\n",
       "    }\n",
       "</style>\n",
       "<table border=\"1\" class=\"dataframe\">\n",
       "  <thead>\n",
       "    <tr style=\"text-align: right;\">\n",
       "      <th></th>\n",
       "      <th>datetime</th>\n",
       "      <th>city</th>\n",
       "      <th>state</th>\n",
       "      <th>country</th>\n",
       "      <th>shape</th>\n",
       "      <th>duration (seconds)</th>\n",
       "      <th>duration (hours/min)</th>\n",
       "      <th>comments</th>\n",
       "      <th>date posted</th>\n",
       "      <th>latitude</th>\n",
       "      <th>longitude</th>\n",
       "    </tr>\n",
       "  </thead>\n",
       "  <tbody>\n",
       "    <tr>\n",
       "      <th>0</th>\n",
       "      <td>10/10/1949 20:30</td>\n",
       "      <td>san marcos</td>\n",
       "      <td>tx</td>\n",
       "      <td>us</td>\n",
       "      <td>cylinder</td>\n",
       "      <td>2700</td>\n",
       "      <td>45 minutes</td>\n",
       "      <td>This event took place in early fall around 194...</td>\n",
       "      <td>4/27/2004</td>\n",
       "      <td>29.8830556</td>\n",
       "      <td>-97.941111</td>\n",
       "    </tr>\n",
       "    <tr>\n",
       "      <th>1</th>\n",
       "      <td>10/10/1949 21:00</td>\n",
       "      <td>lackland afb</td>\n",
       "      <td>tx</td>\n",
       "      <td>NaN</td>\n",
       "      <td>light</td>\n",
       "      <td>7200</td>\n",
       "      <td>1-2 hrs</td>\n",
       "      <td>1949 Lackland AFB&amp;#44 TX.  Lights racing acros...</td>\n",
       "      <td>12/16/2005</td>\n",
       "      <td>29.38421</td>\n",
       "      <td>-98.581082</td>\n",
       "    </tr>\n",
       "    <tr>\n",
       "      <th>2</th>\n",
       "      <td>10/10/1955 17:00</td>\n",
       "      <td>chester (uk/england)</td>\n",
       "      <td>NaN</td>\n",
       "      <td>gb</td>\n",
       "      <td>circle</td>\n",
       "      <td>20</td>\n",
       "      <td>20 seconds</td>\n",
       "      <td>Green/Orange circular disc over Chester&amp;#44 En...</td>\n",
       "      <td>1/21/2008</td>\n",
       "      <td>53.2</td>\n",
       "      <td>-2.916667</td>\n",
       "    </tr>\n",
       "    <tr>\n",
       "      <th>3</th>\n",
       "      <td>10/10/1956 21:00</td>\n",
       "      <td>edna</td>\n",
       "      <td>tx</td>\n",
       "      <td>us</td>\n",
       "      <td>circle</td>\n",
       "      <td>20</td>\n",
       "      <td>1/2 hour</td>\n",
       "      <td>My older brother and twin sister were leaving ...</td>\n",
       "      <td>1/17/2004</td>\n",
       "      <td>28.9783333</td>\n",
       "      <td>-96.645833</td>\n",
       "    </tr>\n",
       "    <tr>\n",
       "      <th>4</th>\n",
       "      <td>10/10/1960 20:00</td>\n",
       "      <td>kaneohe</td>\n",
       "      <td>hi</td>\n",
       "      <td>us</td>\n",
       "      <td>light</td>\n",
       "      <td>900</td>\n",
       "      <td>15 minutes</td>\n",
       "      <td>AS a Marine 1st Lt. flying an FJ4B fighter/att...</td>\n",
       "      <td>1/22/2004</td>\n",
       "      <td>21.4180556</td>\n",
       "      <td>-157.803611</td>\n",
       "    </tr>\n",
       "  </tbody>\n",
       "</table>\n",
       "</div>"
      ],
      "text/plain": [
       "           datetime                  city state country     shape  \\\n",
       "0  10/10/1949 20:30            san marcos    tx      us  cylinder   \n",
       "1  10/10/1949 21:00          lackland afb    tx     NaN     light   \n",
       "2  10/10/1955 17:00  chester (uk/england)   NaN      gb    circle   \n",
       "3  10/10/1956 21:00                  edna    tx      us    circle   \n",
       "4  10/10/1960 20:00               kaneohe    hi      us     light   \n",
       "\n",
       "  duration (seconds) duration (hours/min)  \\\n",
       "0               2700           45 minutes   \n",
       "1               7200              1-2 hrs   \n",
       "2                 20           20 seconds   \n",
       "3                 20             1/2 hour   \n",
       "4                900           15 minutes   \n",
       "\n",
       "                                            comments date posted    latitude  \\\n",
       "0  This event took place in early fall around 194...   4/27/2004  29.8830556   \n",
       "1  1949 Lackland AFB&#44 TX.  Lights racing acros...  12/16/2005    29.38421   \n",
       "2  Green/Orange circular disc over Chester&#44 En...   1/21/2008        53.2   \n",
       "3  My older brother and twin sister were leaving ...   1/17/2004  28.9783333   \n",
       "4  AS a Marine 1st Lt. flying an FJ4B fighter/att...   1/22/2004  21.4180556   \n",
       "\n",
       "   longitude   \n",
       "0  -97.941111  \n",
       "1  -98.581082  \n",
       "2   -2.916667  \n",
       "3  -96.645833  \n",
       "4 -157.803611  "
      ]
     },
     "execution_count": 2,
     "metadata": {},
     "output_type": "execute_result"
    }
   ],
   "source": [
    "with open('scrubbed.csv') as datafile:\n",
    "    ufo = pd.read_csv(datafile)\n",
    "    \n",
    "ufo.head()"
   ]
  },
  {
   "cell_type": "code",
   "execution_count": 3,
   "metadata": {
    "collapsed": true
   },
   "outputs": [],
   "source": [
    "#Add timezones\n",
    "#for x in ufo:\n",
    "#    tf.timezone_at(lng=ufo['longitude'], lat=ufo['latitude'])\n",
    "    \n",
    "#Determine gmt\n",
    "#for x in ufo:\n",
    "#    ufo['utc_dt'] = tf.astimezone(utc)"
   ]
  },
  {
   "cell_type": "code",
   "execution_count": 4,
   "metadata": {},
   "outputs": [
    {
     "data": {
      "text/plain": [
       "'This event took place in early fall around 1949-50. It occurred after a Boy Scout meeting in the Baptist Church. The Baptist Church sit 1949 Lackland AFB&#44 TX.  Lights racing across the sky &amp; making 90 degree turns on a dime. Green/Orange circular disc over Chester&#44 England My older brother and twin sister were leaving the only Edna theater at about 9 PM&#44...we had our bikes and I took a different route home AS a Marine 1st Lt. flying an FJ4B fighter/attack aircraft on a solo night exercise&#44 I was at 50&#44000&#39 in a &quot;clean&quot; aircraft (no ordinan My father is now 89 my brother 52 the girl with us now 51 myself 49 and the other fellow which worked with my father if he&#39s still livi penarth uk  circle  3mins  stayed 30ft above me for 3 mins slowly moved of and then with the blink of the eye the speed was unreal A bright orange color changing to reddish color disk/saucer was observed hovering above power transmission lines. Strobe Lighted disk shape object observed close&#44 at low speeds&#44 and low altitude in Oct 1966 in Pell City Alabama Saucer zaps energy from powerline as my pregnant mother receives mental signals not to pass info ROUND &#44 ORANGE &#44 WITH WHAT I WOULD SAY WAS POLISHED METAL OF SOME KIND AROUND THE EDGES . silent red /orange mass of energy floated by three of us in western North Carolina in the 60s silver disc seen by family and neighbors Slow moving&#44 silent craft accelerated at an unbelievable angle and speed. green oval shaped light over my local church&#44power lines down.. On october 10&#44 1972 myself&#44my 5yrs.daughter&#442 neices and 2 nephews were playing tag in the back yard .When we looked over on the ridge The UFO was so close&#44 my battery in the car went to zero amps&#44 stalling the engine&#44 turning off my lights and radio. Oh&#44 what a night &#33  Two (2) saucer-shaped&#44 glowing green objects and one (1) brilliantly glowing sphere gliding over the lake. saw fast moving blip on the radar scope '"
      ]
     },
     "execution_count": 4,
     "metadata": {},
     "output_type": "execute_result"
    }
   ],
   "source": [
    "#Separate comments column to text file for wordcloud\n",
    "ufo['comments'] = ufo['comments'] + ' ' \n",
    "comment_txt = ufo['comments'].astype(str).sum()\n",
    "comment_txt[0:2000]\n"
   ]
  },
  {
   "cell_type": "code",
   "execution_count": 5,
   "metadata": {},
   "outputs": [],
   "source": [
    "#stopwords = set(STOPWORDS)\n",
    "#wc = WordCloud(max_words=1000, stopwords=stopwords, margin=10,\n",
    "#               random_state=1).generate(comments_txt)"
   ]
  },
  {
   "cell_type": "code",
   "execution_count": 10,
   "metadata": {},
   "outputs": [
    {
     "ename": "SyntaxError",
     "evalue": "invalid syntax (<ipython-input-10-cf2d3db977ea>, line 2)",
     "output_type": "error",
     "traceback": [
      "\u001b[1;36m  File \u001b[1;32m\"<ipython-input-10-cf2d3db977ea>\"\u001b[1;36m, line \u001b[1;32m2\u001b[0m\n\u001b[1;33m    ufo['duration (seconds)'data:image/png;base64,iVBORw0KGgoAAAANSUhEUgAAAYcAAAEVCAYAAAALsCk2AAAABHNCSVQICAgIfAhkiAAAAAlwSFlz%0AAAALEgAACxIB0t1+/AAAHtdJREFUeJzt3X2UHXWd5/H3x4SHgIQEkV5IwgQl4xhhgNBLosy6PcQJ%0A4WENZ1Z2wqCJbM726CI+bHYdcOdslIc9eM4iDoyyZkwkYSMhg7LJcYIhC9z1YQETHiQGxLQQSJtI%0A1DyQBhGD3/2jfq1F1+109e3mVl/yeZ1zz6361u/3u9/KyenvrV/VrVJEYGZmlvemqhMwM7ORx8XB%0AzMwKXBzMzKzAxcHMzApcHMzMrMDFwczMClwcrHKSbpV0bRM/71JJ97xOYx8m6QlJ/+L1GH84SeqQ%0A1F2i3cclXd+MnGzkcHGwNzRJkyWFpNG9sYhYERGzXqeP7AS+ExE/f53Gr8Ji4IOSjqs6EWseFwdr%0AaZJGVZ1DH38D3FZ1EsMpIl4G7gbmVZ2LNY+LgzWdpDMkPSJpn6Q7gMNz2z4s6Xt92oekk9PyrZJu%0AkbRW0ovAn0u6QNKjkl6QtE3SZ3Pdv5Pe90jqkfTuvp8h6T2SNkjam97fk9tWk3SNpO+nfO+RdGw/%0A+3Ui8HbgoVzs/DTNtE/SzyT959y2CyU9JmmPpP8n6U9z2yZJ+qakX0j6laR/SPE3Sfo7Sc9K2ilp%0AuaSj07beo6T5kp6T9EtJ/zU35pj077db0hPAv+yT/9+mHPdJekrSzNzmGnBBvf22N6iI8Muvpr2A%0AQ4FngU8BhwAfAH4LXJu2fxj4Xp8+AZyclm8F9gJnk325ORzoAE5N638KPA9clNpPTv1H58b7/WcA%0AxwC7gQ8Bo4FL0vpb0vYa8FPgj4Exaf36fvbtAmBzn9gO4F+l5fHAtLQ8DdgJTAdGAfOBrcBhaf2H%0AwI3AkWkf/yz1+/dAF/A24M3AN4Hb+uzrP6ZcTwN+A7wzbb8e+G7a50nAj4DutO0dwDbghNxYb8/t%0AxzRgV9X/f/xq3stHDtZsM8iKwhcj4rcRcSewYZBjrI6I70fE7yLi5YioRcSmtP44cDvwr0uOdQGw%0AJSJui4j9EXE78GPg3+TafC0ifhIRvwZWAaf3M9Y4YF+f2G+BqZLGRsTuiHgkxf8D8JWIeCgiXo2I%0AZWR/yGcAZwEnAP8lIl5M+9h7pHMp8IWIeDoieoCrgLn5cyrA5yLi1xHxQ7Iic1qK/zvguojYFRHb%0AgJtyfV4lK0xTJR0SEVsj4qe57fuAo/vZb3sDcnGwZjsB+FlE5O/4+Owgx9iWX5E0XdL9aQpmL/AR%0AoO7UTz/59P38Z4EJufX8yeWXyL6x17MbOKpP7N8C5wPPSvq/kt6d4n8ELExTSnsk7SH7Nn9Cen82%0AIvaXyPdZsiOethL5nsBr/+1+P05EdAGfBD4L7JS0UtIJubZHkR2x2UHCxcGabQcwQZJysRNzyy8C%0AR/Su9HNJaN9bCX8dWANMioijgf8JqJ+2fW0n+0OddyLwswH61fM48LY+V0ZtiIg5wHHA/yY78oDs%0Aj/R1ETEu9zoiHblsA07sczTQX74nAvvJptIGsoOs8OT7/l5EfD0i/iyNH8Dnc5vfSXYUYgcJFwdr%0AtgfI/ph9XNJoSX9JNo3S64fAuySdLulwsm+yAzmKbD78ZUlnAX+d2/YL4Hdkc/T1rAX+WNJfp3z+%0ACpgKfGtQewVERDewhbQ/kg5Nv6k4OiJ+C7xANn0D2XmBj6SjHkk6Mp1YPwr4Adkf8utT/HBJZ6d+%0AtwOfknSSpDcD/x24o5+jjL5WAVdJGi9pInBF7wZJ75B0jqTDgJeBX+dyhWya7u7B/ptY63JxsKaK%0AiFeAvyQ7Kbwb+Cuyk6q9238CXA38H7I/tN8rjlLwH4GrJe0D/ht/+HZORLwEXAd8P03fzOiTz6+A%0AC4GFwK+ATwMXRsQvG9zFr5Cd3O71IWCrpBfIprs+mD53I9l5h38g+3foIvs3ISJeJTvncTLwHNBN%0A9u8EsJTsUtnvAM+Q/SH//R/5AXyObCrpGeAeXnvJ7WFkJ6x/STYtdRzwGYBUpM8HlpX8HHsD0Gun%0Afs1sKNI370eBmRGxo+p8hoOkK8im7D5ddS7WPC4OZmZW4GklMzMrcHEwM7MCFwczMyuodx11Szj2%0A2GNj8uTJDfV98cUXOfLII4c3oSZw3s3Vinm3Ys7gvJvl4Ycf/mVEvLVM25YtDpMnT2bjxo0N9a3V%0AanR0dAxvQk3gvJurFfNuxZzBeTeLpNJ3I/C0kpmZFbg4mJlZgYuDmZkVuDiYmVmBi4OZmRW4OJiZ%0AWUGp4iDpU5I2S/qRpNvTLYRPkvSQpC2S7pB0aGp7WFrvStsn58a5KsWfknRuLj47xbokXTncO2lm%0AZoMzYHGQNAH4ONAeEaeQPd92LtmDQG6MiClktxxekLosAHZHxMlkz8D9fBpnaur3LmA28GVJoySN%0AAr4EnEd2H/1LUlszM6tI2Wml0cCY9GSqI8geRHIOcGfavgy4KC3P4Q/3fb8TmJme+jUHWBkRv4mI%0AZ8juX39WenWlZ+K+AqxMbc3MrCID/kI6In4m6X+QPXTk12QPCXkY2JN7+lQ3f3jm7gTSc2ojYn96%0Apu9bUvzB3ND5Ptv6xKc3tDclbfrZXj585T+/nh9R19brL2j6Z5qZNWLA4iBpPNk3+ZOAPcA/kU0B%0A9dX7YAj1s62/eL2jl7oPmZDUCXQCtLW1UavVDpR6v9rGwMJTyzxVcXg1mm+vnp6eIY9RBefdPK2Y%0AMzjvkajMvZXeBzwTEb8AkPRN4D3AOEmj09HDRLIHn0P2zX8S0J2moY4GduXivfJ9+ou/RkQsBhYD%0AtLe3R6P3NLl5xWpu2NT820ptvbRjSP1b7T4uvZx387RizuC8R6Iy5xyeA2ZIOiKdO5gJPAHcD3wg%0AtZkPrE7La9I6aft9kT1ubg0wN13NdBIwhexB6huAKenqp0PJTlqvGfqumZlZo8qcc3hI0p3AI8B+%0AsufjLgb+GVgp6doUW5K6LAFuk9RFdsQwN42zWdIqssKyH7g8PUgdSR8D1pFdCbU0IjYP3y6amdlg%0AlZpbiYhFwKI+4afJrjTq2/Zl4OJ+xrkOuK5OfC2wtkwuZmb2+vMvpM3MrMDFwczMClwczMyswMXB%0AzMwKXBzMzKzAxcHMzApcHMzMrMDFwczMClwczMyswMXBzMwKXBzMzKzAxcHMzApcHMzMrMDFwczM%0AClwczMyswMXBzMwKXBzMzKxgwOIg6R2SHsu9XpD0SUnHSFovaUt6H5/aS9JNkrokPS5pWm6s+an9%0AFknzc/EzJW1KfW5Kz6o2M7OKDFgcIuKpiDg9Ik4HzgReAu4CrgTujYgpwL1pHeA8YEp6dQK3AEg6%0AhuxRo9PJHi+6qLegpDaduX6zh2XvzMysIYOdVpoJ/DQingXmAMtSfBlwUVqeAyyPzIPAOEnHA+cC%0A6yNiV0TsBtYDs9O2sRHxQEQEsDw3lpmZVWD0INvPBW5Py20RsQMgInZIOi7FJwDbcn26U+xA8e46%0A8QJJnWRHGLS1tVGr1QaZfkp8DCw8dX9DfYei0Xx79fT0DHmMKjjv5mnFnMF5j0Sli4OkQ4H3A1cN%0A1LROLBqIF4MRi4HFAO3t7dHR0TFAKvXdvGI1N2wabF0cuq2Xdgypf61Wo9F9rpLzbp5WzBmc90g0%0AmGml84BHIuL5tP58mhIive9M8W5gUq7fRGD7APGJdeJmZlaRwRSHS/jDlBLAGqD3iqP5wOpcfF66%0AamkGsDdNP60DZkkan05EzwLWpW37JM1IVynNy41lZmYVKDW3IukI4C+Av8mFrwdWSVoAPAdcnOJr%0AgfOBLrIrmy4DiIhdkq4BNqR2V0fErrT8UeBWYAxwd3qZmVlFShWHiHgJeEuf2K/Irl7q2zaAy/sZ%0AZymwtE58I3BKmVzMzOz1519Im5lZgYuDmZkVuDiYmVmBi4OZmRW4OJiZWYGLg5mZFbg4mJlZgYuD%0AmZkVuDiYmVmBi4OZmRW4OJiZWYGLg5mZFbg4mJlZgYuDmZkVuDiYmVmBi4OZmRW4OJiZWUGp4iBp%0AnKQ7Jf1Y0pOS3i3pGEnrJW1J7+NTW0m6SVKXpMclTcuNMz+13yJpfi5+pqRNqc9N6VnSZmZWkbJH%0ADn8PfDsi/gQ4DXgSuBK4NyKmAPemdYDzgCnp1QncAiDpGGARMB04C1jUW1BSm85cv9lD2y0zMxuK%0AAYuDpLHAe4ElABHxSkTsAeYAy1KzZcBFaXkOsDwyDwLjJB0PnAusj4hdEbEbWA/MTtvGRsQD6fnT%0Ay3NjmZlZBUaXaPM24BfA1ySdBjwMfAJoi4gdABGxQ9Jxqf0EYFuuf3eKHSjeXSdeIKmT7AiDtrY2%0AarVaifSL2sbAwlP3N9R3KBrNt1dPT8+Qx6iC826eVswZnPdIVKY4jAamAVdExEOS/p4/TCHVU+98%0AQTQQLwYjFgOLAdrb26Ojo+MAafTv5hWruWFTmV0fXlsv7RhS/1qtRqP7XCXn3TytmDM475GozDmH%0AbqA7Ih5K63eSFYvn05QQ6X1nrv2kXP+JwPYB4hPrxM3MrCIDFoeI+DmwTdI7Umgm8ASwBui94mg+%0AsDotrwHmpauWZgB70/TTOmCWpPHpRPQsYF3atk/SjHSV0rzcWGZmVoGycytXACskHQo8DVxGVlhW%0ASVoAPAdcnNquBc4HuoCXUlsiYpeka4ANqd3VEbErLX8UuBUYA9ydXmZmVpFSxSEiHgPa62yaWadt%0AAJf3M85SYGmd+EbglDK5mJnZ68+/kDYzswIXBzMzK3BxMDOzAhcHMzMrcHEwM7MCFwczMytwcTAz%0AswIXBzMzK3BxMDOzAhcHMzMrcHEwM7MCFwczMytwcTAzswIXBzMzK3BxMDOzAhcHMzMrcHEwM7OC%0AUsVB0lZJmyQ9Jmljih0jab2kLel9fIpL0k2SuiQ9Lmlabpz5qf0WSfNz8TPT+F2pr4Z7R83MrLzB%0AHDn8eUScHhG9jwu9Erg3IqYA96Z1gPOAKenVCdwCWTEBFgHTgbOARb0FJbXpzPWb3fAemZnZkA1l%0AWmkOsCwtLwMuysWXR+ZBYJyk44FzgfURsSsidgPrgdlp29iIeCA9f3p5biwzM6vA6JLtArhHUgBf%0AiYjFQFtE7ACIiB2SjkttJwDbcn27U+xA8e468QJJnWRHGLS1tVGr1Uqm/1ptY2Dhqfsb6jsUjebb%0Aq6enZ8hjVMF5N08r5gzOeyQqWxzOjojtqQCsl/TjA7Std74gGogXg1lRWgzQ3t4eHR0dB0y6Pzev%0AWM0Nm8ru+vDZemnHkPrXajUa3ecqOe/macWcwXmPRKWmlSJie3rfCdxFds7g+TQlRHrfmZp3A5Ny%0A3ScC2weIT6wTNzOzigxYHCQdKemo3mVgFvAjYA3Qe8XRfGB1Wl4DzEtXLc0A9qbpp3XALEnj04no%0AWcC6tG2fpBnpKqV5ubHMzKwCZeZW2oC70tWlo4GvR8S3JW0AVklaADwHXJzarwXOB7qAl4DLACJi%0Al6RrgA2p3dURsSstfxS4FRgD3J1eZmZWkQGLQ0Q8DZxWJ/4rYGadeACX9zPWUmBpnfhG4JQS+ZqZ%0AWRP4F9JmZlbg4mBmZgUuDmZmVuDiYGZmBS4OZmZW4OJgZmYFLg5mZlbg4mBmZgUuDmZmVuDiYGZm%0ABS4OZmZW4OJgZmYFLg5mZlbg4mBmZgUuDmZmVuDiYGZmBS4OZmZWULo4SBol6VFJ30rrJ0l6SNIW%0ASXdIOjTFD0vrXWn75NwYV6X4U5LOzcVnp1iXpCuHb/fMzKwRgzly+ATwZG7988CNETEF2A0sSPEF%0AwO6IOBm4MbVD0lRgLvAuYDbw5VRwRgFfAs4DpgKXpLZmZlaRUsVB0kTgAuCraV3AOcCdqcky4KK0%0APCetk7bPTO3nACsj4jcR8QzQBZyVXl0R8XREvAKsTG3NzKwio0u2+yLwaeCotP4WYE9E7E/r3cCE%0AtDwB2AYQEfsl7U3tJwAP5sbM99nWJz69XhKSOoFOgLa2Nmq1Wsn0X6ttDCw8df/ADYdZo/n26unp%0AGfIYVXDezdOKOYPzHokGLA6SLgR2RsTDkjp6w3WaxgDb+ovXO3qJOjEiYjGwGKC9vT06OjrqNRvQ%0AzStWc8OmsnVx+Gy9tGNI/Wu1Go3uc5Wcd/O0Ys7gvEeiMn8hzwbeL+l84HBgLNmRxDhJo9PRw0Rg%0Ae2rfDUwCuiWNBo4GduXivfJ9+oubmVkFBjznEBFXRcTEiJhMdkL5voi4FLgf+EBqNh9YnZbXpHXS%0A9vsiIlJ8brqa6SRgCvADYAMwJV39dGj6jDXDsndmZtaQocyt/C2wUtK1wKPAkhRfAtwmqYvsiGEu%0AQERslrQKeALYD1weEa8CSPoYsA4YBSyNiM1DyMvMzIZoUMUhImpALS0/TXalUd82LwMX99P/OuC6%0AOvG1wNrB5GJmZq8f/0LazMwKXBzMzKzAxcHMzApcHMzMrMDFwczMClwczMyswMXBzMwKXBzMzKzA%0AxcHMzApcHMzMrMDFwczMClwczMyswMXBzMwKXBzMzKzAxcHMzApcHMzMrGDA4iDpcEk/kPRDSZsl%0AfS7FT5L0kKQtku5Ij/gkPQb0Dkldafvk3FhXpfhTks7NxWenWJekK4d/N83MbDDKHDn8BjgnIk4D%0ATgdmS5oBfB64MSKmALuBBan9AmB3RJwM3JjaIWkq2SND3wXMBr4saZSkUcCXgPOAqcAlqa2ZmVVk%0AwOIQmZ60ekh6BXAOcGeKLwMuSstz0jpp+0xJSvGVEfGbiHgG6CJ7zOhZQFdEPB0RrwArU1szM6tI%0AqWdIp2/3DwMnk33L/ymwJyL2pybdwIS0PAHYBhAR+yXtBd6S4g/mhs332dYnPr2fPDqBToC2tjZq%0AtVqZ9AvaxsDCU/cP3HCYNZpvr56eniGPUQXn3TytmDM475GoVHGIiFeB0yWNA+4C3lmvWXpXP9v6%0Ai9c7eok6MSJiMbAYoL29PTo6Og6ceD9uXrGaGzaV2vVhtfXSjiH1r9VqNLrPVXLezdOKOYPzHokG%0AdbVSROwBasAMYJyk3r+wE4HtabkbmASQth8N7MrH+/TpL25mZhUpc7XSW9MRA5LGAO8DngTuBz6Q%0Ams0HVqflNWmdtP2+iIgUn5uuZjoJmAL8ANgATElXPx1KdtJ6zXDsnJmZNabM3MrxwLJ03uFNwKqI%0A+JakJ4CVkq4FHgWWpPZLgNskdZEdMcwFiIjNklYBTwD7gcvTdBWSPgasA0YBSyNi87DtoZmZDdqA%0AxSEiHgfOqBN/muxKo77xl4GL+xnrOuC6OvG1wNoS+ZqZWRP4F9JmZlbg4mBmZgUuDmZmVuDiYGZm%0ABS4OZmZW4OJgZmYFLg5mZlbg4mBmZgUuDmZmVuDiYGZmBS4OZmZW4OJgZmYFLg5mZlbg4mBmZgUu%0ADmZmVuDiYGZmBS4OZmZWUOYZ0pMk3S/pSUmbJX0ixY+RtF7SlvQ+PsUl6SZJXZIelzQtN9b81H6L%0ApPm5+JmSNqU+N0nS67GzZmZWTpkjh/3Awoh4JzADuFzSVOBK4N6ImALcm9YBzgOmpFcncAtkxQRY%0ABEwne7zoot6Cktp05vrNHvqumZlZowYsDhGxIyIeScv7gCeBCcAcYFlqtgy4KC3PAZZH5kFgnKTj%0AgXOB9RGxKyJ2A+uB2Wnb2Ih4ICICWJ4by8zMKjB6MI0lTQbOAB4C2iJiB2QFRNJxqdkEYFuuW3eK%0AHSjeXSde7/M7yY4waGtro1arDSb932sbAwtP3d9Q36FoNN9ePT09Qx6jCs67eVoxZ3DeI1Hp4iDp%0AzcA3gE9GxAsHOC1Qb0M0EC8GIxYDiwHa29ujo6NjgKzru3nFam7YNKi6OCy2XtoxpP61Wo1G97lK%0Azrt5WjFncN4jUamrlSQdQlYYVkTEN1P4+TQlRHrfmeLdwKRc94nA9gHiE+vEzcysImWuVhKwBHgy%0AIr6Q27QG6L3iaD6wOhefl65amgHsTdNP64BZksanE9GzgHVp2z5JM9JnzcuNZWZmFSgzt3I28CFg%0Ak6THUuwzwPXAKkkLgOeAi9O2tcD5QBfwEnAZQETsknQNsCG1uzoidqXljwK3AmOAu9PLzMwqMmBx%0AiIjvUf+8AMDMOu0DuLyfsZYCS+vENwKnDJSLmZk1h38hbWZmBS4OZmZW4OJgZmYFLg5mZlbg4mBm%0AZgUuDmZmVuDiYGZmBS4OZmZW4OJgZmYFLg5mZlbg4mBmZgUuDmZmVuDiYGZmBS4OZmZW4OJgZmYF%0ALg5mZlbg4mBmZgVlniG9VNJOST/KxY6RtF7SlvQ+PsUl6SZJXZIelzQt12d+ar9F0vxc/ExJm1Kf%0Am9JzpM3MrEJljhxuBWb3iV0J3BsRU4B70zrAecCU9OoEboGsmACLgOnAWcCi3oKS2nTm+vX9LDMz%0Aa7IBi0NEfAfY1Sc8B1iWlpcBF+XiyyPzIDBO0vHAucD6iNgVEbuB9cDstG1sRDyQnj29PDeWmZlV%0AZHSD/doiYgdAROyQdFyKTwC25dp1p9iB4t114nVJ6iQ7yqCtrY1ardZY8mNg4an7G+o7FI3m26un%0Ap2fIY1TBeTdPK+YMznskarQ49Kfe+YJoIF5XRCwGFgO0t7dHR0dHAynCzStWc8Om4d71gW29tGNI%0A/Wu1Go3uc5Wcd/O0Ys7gvEeiRq9Wej5NCZHed6Z4NzAp124isH2A+MQ6cTMzq1CjxWEN0HvF0Xxg%0AdS4+L121NAPYm6af1gGzJI1PJ6JnAevStn2SZqSrlOblxjIzs4oMOLci6XagAzhWUjfZVUfXA6sk%0ALQCeAy5OzdcC5wNdwEvAZQARsUvSNcCG1O7qiOg9yf1RsiuixgB3p5eZmVVowOIQEZf0s2lmnbYB%0AXN7POEuBpXXiG4FTBsrDzMyax7+QNjOzAhcHMzMrcHEwM7MCFwczMytwcTAzswIXBzMzK3BxMDOz%0AAhcHMzMrcHEwM7MCFwczMytwcTAzswIXBzMzK3BxMDOzAhcHMzMrcHEwM7MCFwczMytwcTAzs4IR%0AUxwkzZb0lKQuSVdWnY+Z2cFsRBQHSaOALwHnAVOBSyRNrTYrM7OD14goDsBZQFdEPB0RrwArgTkV%0A52RmdtAaXXUCyQRgW269G5jet5GkTqAzrfZIeqrBzzsW+GWDfRumzw95iEryHgbOu3laMWdw3s3y%0AR2UbjpTioDqxKAQiFgOLh/xh0saIaB/qOM3mvJurFfNuxZzBeY9EI2VaqRuYlFufCGyvKBczs4Pe%0ASCkOG4Apkk6SdCgwF1hTcU5mZgetETGtFBH7JX0MWAeMApZGxObX8SOHPDVVEefdXK2YdyvmDM57%0AxFFEYWrfzMwOciNlWsnMzEYQFwczMys4qIpDq96iQ9JSSTsl/ajqXMqSNEnS/ZKelLRZ0ieqzqkM%0ASYdL+oGkH6a8P1d1ToMhaZSkRyV9q+pcypK0VdImSY9J2lh1PmVJGifpTkk/Tv/P3111TsPpoDnn%0AkG7R8RPgL8gund0AXBIRT1SaWAmS3gv0AMsj4pSq8ylD0vHA8RHxiKSjgIeBi0b6v7ckAUdGRI+k%0AQ4DvAZ+IiAcrTq0USf8JaAfGRsSFVedThqStQHtEtNKPyZC0DPhuRHw1XWV5RETsqTqv4XIwHTm0%0A7C06IuI7wK6q8xiMiNgREY+k5X3Ak2S/hB/RItOTVg9Jr5b4BiVpInAB8NWqc3mjkzQWeC+wBCAi%0AXnkjFQY4uIpDvVt0jPg/Vm8EkiYDZwAPVZtJOWlq5jFgJ7A+Iloib+CLwKeB31WdyCAFcI+kh9Mt%0AclrB24BfAF9L03hflXRk1UkNp4OpOJS6RYcNL0lvBr4BfDIiXqg6nzIi4tWIOJ3sl/pnSRrxU3mS%0ALgR2RsTDVefSgLMjYhrZXZkvT9OoI91oYBpwS0ScAbwItMx5zDIOpuLgW3Q0WZqz/wawIiK+WXU+%0Ag5WmCWrA7IpTKeNs4P1p/n4lcI6k/1VtSuVExPb0vhO4i2wKeKTrBrpzR5V3khWLN4yDqTj4Fh1N%0AlE7sLgGejIgvVJ1PWZLeKmlcWh4DvA/4cbVZDSwiroqIiRExmez/9n0R8cGK0xqQpCPTBQukaZlZ%0AwIi/Ki8ifg5sk/SOFJoJjOiLLQZrRNw+oxkquEXHsJF0O9ABHCupG1gUEUuqzWpAZwMfAjal+XuA%0Az0TE2gpzKuN4YFm6uu1NwKqIaJnLQltQG3BX9l2C0cDXI+Lb1aZU2hXAivRl82ngsorzGVYHzaWs%0AZmZW3sE0rWRmZiW5OJiZWYGLg5mZFbg4mJlZgYuDmVkLGMwNOCWdmG58+aikxyWdP9jPc3EwM2sN%0At1L+B5l/R3YZ9hlkv3v58mA/zMXBzKwF1LsBp6S3S/p2ui/VdyX9SW9zYGxaPpoG7gZx0PwIzszs%0ADWgx8JGI2CJpOtkRwjnAZ8luZngFcCTZL/0HxcXBzKwFpZtavgf4p/QLc4DD0vslwK0RcUN6CNFt%0Akk6JiNJ37HVxMDNrTW8C9qQ7CPe1gHR+IiIekHQ4cCzZbehLD25mZi0m3QL/GUkXQ3azS0mnpc3P%0Akd0MEEnvBA4ne/5Eab63kplZC8jfgBN4HlgE3AfcQnbDyEOAlRFxtaSpwD8CbyY7Of3piLhnUJ/n%0A4mBmZn15WsnMzApcHMzMrMDFwczMClwczMyswMXBzMwKXBzMzKzAxcHMzAr+P46zYLuTHw2xAAAA%0AAElFTkSuQmCC] = ufo['duration (seconds)'].astype(float)\u001b[0m\n\u001b[1;37m                               ^\u001b[0m\n\u001b[1;31mSyntaxError\u001b[0m\u001b[1;31m:\u001b[0m invalid syntax\n"
     ]
    }
   ],
   "source": [
    "ufo['duration (seconds)'] = ufo['duration (seconds)'].astype(str).map(lambda x: re.sub(r'\\W+', '', x))\n",
    "ufo['duration (seconds)'] = ufo['duration (seconds)'].astype(float)"
   ]
  },
  {
   "cell_type": "code",
   "execution_count": null,
   "metadata": {
    "collapsed": true
   },
   "outputs": [],
   "source": []
  },
  {
   "cell_type": "code",
   "execution_count": 39,
   "metadata": {},
   "outputs": [
    {
     "data": {
      "image/png": "[encoded data removed]",
      "text/plain": [
       "<matplotlib.figure.Figure at 0x10266080>"
      ]
     },
     "metadata": {},
     "output_type": "display_data"
    }
   ],
   "source": [
    "plt.boxplot(ufo['duration (seconds)'], showfliers = False) #Set showfliers to false or else you will be engulfed by the maddness\n",
    "plt.show()"
   ]
  },
  {
   "cell_type": "code",
   "execution_count": 42,
   "metadata": {},
   "outputs": [
    {
     "data": {
      "image/png": "[encoded data removed]",
      "text/plain": [
       "<matplotlib.figure.Figure at 0xf4beda0>"
      ]
     },
     "metadata": {},
     "output_type": "display_data"
    }
   ],
   "source": [
    "plt.hist(ufo['duration (seconds)'], range = [0,3000], bins = 100)\n",
    "plt.show()\n",
    "\n",
    "#worth categorizing into short, medium, long, and extra-long encounters\n",
    "#looks like the majority are short encounters"
   ]
  },
  {
   "cell_type": "code",
   "execution_count": null,
   "metadata": {
    "collapsed": true
   },
   "outputs": [],
   "source": []
  }
 ],
 "metadata": {
  "kernelspec": {
   "display_name": "Python 2",
   "language": "python",
   "name": "python2"
  }
 },
 "nbformat": 4,
 "nbformat_minor": 2
}
